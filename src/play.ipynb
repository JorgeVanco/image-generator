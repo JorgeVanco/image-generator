{
 "cells": [
  {
   "cell_type": "code",
   "execution_count": 1,
   "metadata": {},
   "outputs": [
    {
     "name": "stderr",
     "output_type": "stream",
     "text": [
      "c:\\Users\\jurko\\anaconda3\\envs\\image-generator\\Lib\\site-packages\\tqdm\\auto.py:21: TqdmWarning: IProgress not found. Please update jupyter and ipywidgets. See https://ipywidgets.readthedocs.io/en/stable/user_install.html\n",
      "  from .autonotebook import tqdm as notebook_tqdm\n"
     ]
    }
   ],
   "source": [
    "from torch._tensor import Tensor\n",
    "from torch.utils.data import Dataset\n",
    "from utils import read_npy\n",
    "import matplotlib.pyplot as plt\n",
    "import torch.nn as nn\n",
    "import torch\n",
    "from torch.optim import Adam\n",
    "from torch.optim.lr_scheduler import ExponentialLR\n",
    "from torch.nn import MSELoss\n",
    "import torchvision.transforms as transforms\n",
    "\n",
    "class PixelDataset(Dataset):\n",
    "    def __init__(self, sprites_path, labels_path) -> None:\n",
    "        self.sprites = read_npy(sprites_path)\n",
    "        self.labels = read_npy(labels_path)\n",
    "\n",
    "        self.transform = transforms.Lambda(\n",
    "                    lambda x: x / 255.\n",
    "                )  # Normalize to range [-1, 1]\n",
    "\n",
    "    def __len__(self) -> int:\n",
    "        return len(self.sprites)\n",
    "\n",
    "    def __getitem__(self, index) -> tuple[Tensor, Tensor]:\n",
    "        image = self.transform(self.sprites[index].permute(2, 0, 1))\n",
    "        label = self.labels[index]\n",
    "        return image, label"
   ]
  },
  {
   "cell_type": "code",
   "execution_count": 2,
   "metadata": {},
   "outputs": [],
   "source": [
    "from torch.utils.data import DataLoader"
   ]
  },
  {
   "cell_type": "code",
   "execution_count": 3,
   "metadata": {},
   "outputs": [],
   "source": [
    "dataset = PixelDataset(\"../dataset/sprites.npy\", \"../dataset/sprites_labels.npy\")\n",
    "dataloader = DataLoader(dataset, batch_size=256, shuffle=True, num_workers=0)"
   ]
  },
  {
   "cell_type": "code",
   "execution_count": 4,
   "metadata": {},
   "outputs": [
    {
     "data": {
      "text/plain": [
       "<matplotlib.image.AxesImage at 0x210b1983680>"
      ]
     },
     "execution_count": 4,
     "metadata": {},
     "output_type": "execute_result"
    },
    {
     "data": {
      "image/png": "[encoded data removed]",
      "text/plain": [
       "<Figure size 640x480 with 1 Axes>"
      ]
     },
     "metadata": {},
     "output_type": "display_data"
    }
   ],
   "source": [
    "plt.imshow(dataset[0][0].permute(1,2,0))"
   ]
  },
  {
   "cell_type": "code",
   "execution_count": 5,
   "metadata": {},
   "outputs": [
    {
     "name": "stdout",
     "output_type": "stream",
     "text": [
      "tensor(1.)\n",
      "tensor(0.)\n"
     ]
    }
   ],
   "source": [
    "len(dataset)\n",
    "print(dataset[0][0].max())\n",
    "print(dataset[0][0].min())"
   ]
  },
  {
   "cell_type": "code",
   "execution_count": 6,
   "metadata": {},
   "outputs": [
    {
     "name": "stdout",
     "output_type": "stream",
     "text": [
      "torch.Size([3, 16, 16])\n",
      "tensor([[0., 1., 0., 0., 0.],\n",
      "        [0., 0., 0., 0., 1.],\n",
      "        [0., 0., 0., 1., 0.],\n",
      "        ...,\n",
      "        [0., 1., 0., 0., 0.],\n",
      "        [0., 0., 0., 1., 0.],\n",
      "        [0., 1., 0., 0., 0.]])\n"
     ]
    }
   ],
   "source": [
    "for image, label in dataloader:\n",
    "    print(image[0].shape)\n",
    "    print(label)\n",
    "    break"
   ]
  },
  {
   "cell_type": "code",
   "execution_count": 7,
   "metadata": {},
   "outputs": [],
   "source": [
    "from models.autoencoder import Encoder, Decoder\n"
   ]
  },
  {
   "cell_type": "code",
   "execution_count": 8,
   "metadata": {},
   "outputs": [],
   "source": [
    "encoder = Encoder()\n",
    "decoder = Decoder()\n",
    "autoencoder = nn.Sequential(encoder, decoder)\n"
   ]
  },
  {
   "cell_type": "code",
   "execution_count": 9,
   "metadata": {},
   "outputs": [],
   "source": [
    "# output = autoencoder(next(iter(dataloader))[0])\n",
    "# output = torch.stack([image.permute(2,0,1).int() for image in output])\n",
    "# grid = make_grid(output, nrow=4, padding = 2)\n",
    "# plt.imshow(grid.permute(1,2,0))\n",
    "# plt.show()"
   ]
  },
  {
   "cell_type": "code",
   "execution_count": 23,
   "metadata": {},
   "outputs": [],
   "source": [
    "subset = torch.utils.data.Subset(dataset, range(8))\n",
    "# print(len(dataset))\n",
    "dataloader = DataLoader(subset, batch_size=4, shuffle=True, num_workers=0)\n"
   ]
  },
  {
   "cell_type": "code",
   "execution_count": 24,
   "metadata": {},
   "outputs": [],
   "source": [
    "\n",
    "optimizer = Adam(autoencoder.parameters(), lr=0.01)\n",
    "scheduler = ExponentialLR(optimizer, gamma=0.9)"
   ]
  },
  {
   "cell_type": "code",
   "execution_count": 25,
   "metadata": {},
   "outputs": [],
   "source": [
    "\n",
    "def get_gradient_norm(model):\n",
    "    total_norm = 0.0\n",
    "    for p in model.parameters():\n",
    "        if p.grad is not None:\n",
    "            param_norm = p.grad.data.norm(2)\n",
    "            total_norm += param_norm.item() ** 2\n",
    "    total_norm = total_norm ** 0.5\n",
    "    return total_norm"
   ]
  },
  {
   "cell_type": "code",
   "execution_count": 33,
   "metadata": {},
   "outputs": [],
   "source": [
    "from tqdm.auto import tqdm\n",
    "def train_loop(dataloader, model, loss_fn, optimizer, epochs=5) -> tuple[list, list]:\n",
    "    model.train()\n",
    "    size = len(dataloader.dataset)\n",
    "    losses = []\n",
    "    gradients = []\n",
    "    try:\n",
    "        for epoch in tqdm(range(epochs)):\n",
    "            # print(f\"Epoch {epoch+1}\\n-------------------------------\")\n",
    "            for batch, (X, label) in enumerate(dataloader):\n",
    "                # Compute prediction error\n",
    "                pred = model(X)\n",
    "                loss = loss_fn(pred, X)\n",
    "                \n",
    "                # Backpropagation\n",
    "                optimizer.zero_grad()\n",
    "                loss.backward()\n",
    "\n",
    "                torch.nn.utils.clip_grad_norm_(model.parameters(), 1)\n",
    "                optimizer.step()\n",
    "\n",
    "                \n",
    "                gradients.append(get_gradient_norm(model))\n",
    "                losses.append(loss.item())\n",
    "                if batch % 32 == 0:\n",
    "                    loss, current = loss.item(), batch * len(X)\n",
    "                    # print(f\"loss: {loss:>7f}  [{current:>5d}/{size:>5d}]\")\n",
    "            scheduler.step()\n",
    "    except KeyboardInterrupt:\n",
    "        pass\n",
    "\n",
    "    return losses, gradients"
   ]
  },
  {
   "cell_type": "code",
   "execution_count": 35,
   "metadata": {},
   "outputs": [
    {
     "name": "stderr",
     "output_type": "stream",
     "text": [
      "100%|██████████| 100/100 [00:01<00:00, 87.40it/s]\n"
     ]
    }
   ],
   "source": [
    "losses, gradients = train_loop(dataloader, autoencoder, MSELoss(), optimizer, epochs=100)"
   ]
  },
  {
   "cell_type": "code",
   "execution_count": 28,
   "metadata": {},
   "outputs": [
    {
     "data": {
      "image/png": "[encoded data removed]",
      "text/plain": [
       "<Figure size 640x480 with 2 Axes>"
      ]
     },
     "metadata": {},
     "output_type": "display_data"
    }
   ],
   "source": [
    "\n",
    "fig, axes = plt.subplots(2)\n",
    "axes[0].plot(torch.log10(torch.tensor(losses)))\n",
    "axes[1].plot(gradients)\n",
    "plt.show()"
   ]
  },
  {
   "cell_type": "code",
   "execution_count": 29,
   "metadata": {},
   "outputs": [
    {
     "name": "stdout",
     "output_type": "stream",
     "text": [
      "torch.Size([3, 16, 16])\n",
      "torch.Size([4, 3, 16, 16])\n",
      "torch.Size([3, 20, 74])\n"
     ]
    },
    {
     "data": {
      "image/png": "[encoded data removed]",
      "text/plain": [
       "<Figure size 640x480 with 1 Axes>"
      ]
     },
     "metadata": {},
     "output_type": "display_data"
    },
    {
     "data": {
      "image/png": "[encoded data removed]",
      "text/plain": [
       "<Figure size 640x480 with 1 Axes>"
      ]
     },
     "metadata": {},
     "output_type": "display_data"
    },
    {
     "ename": "AttributeError",
     "evalue": "'Sequential' object has no attribute 'decoder'",
     "output_type": "error",
     "traceback": [
      "\u001b[1;31m---------------------------------------------------------------------------\u001b[0m",
      "\u001b[1;31mAttributeError\u001b[0m                            Traceback (most recent call last)",
      "Cell \u001b[1;32mIn[29], line 32\u001b[0m\n\u001b[0;32m     29\u001b[0m         plt\u001b[38;5;241m.\u001b[39mimshow(grid\u001b[38;5;241m.\u001b[39mpermute(\u001b[38;5;241m1\u001b[39m,\u001b[38;5;241m2\u001b[39m,\u001b[38;5;241m0\u001b[39m))\n\u001b[0;32m     30\u001b[0m         plt\u001b[38;5;241m.\u001b[39mshow()\n\u001b[1;32m---> 32\u001b[0m \u001b[43mshow\u001b[49m\u001b[43m(\u001b[49m\u001b[43mautoencoder\u001b[49m\u001b[43m)\u001b[49m\n",
      "Cell \u001b[1;32mIn[29], line 26\u001b[0m, in \u001b[0;36mshow\u001b[1;34m(autoencoder)\u001b[0m\n\u001b[0;32m     24\u001b[0m \u001b[38;5;28;01mwith\u001b[39;00m torch\u001b[38;5;241m.\u001b[39mno_grad():\n\u001b[0;32m     25\u001b[0m     images_not \u001b[38;5;241m=\u001b[39m torch\u001b[38;5;241m.\u001b[39mrandn(\u001b[38;5;241m8\u001b[39m,\u001b[38;5;241m30\u001b[39m)\n\u001b[1;32m---> 26\u001b[0m     output \u001b[38;5;241m=\u001b[39m \u001b[43mautoencoder\u001b[49m\u001b[38;5;241;43m.\u001b[39;49m\u001b[43mdecoder\u001b[49m(images_not[:\u001b[38;5;241m8\u001b[39m])\n\u001b[0;32m     27\u001b[0m     output \u001b[38;5;241m=\u001b[39m torch\u001b[38;5;241m.\u001b[39mstack([image\u001b[38;5;241m.\u001b[39mint() \u001b[38;5;28;01mfor\u001b[39;00m image \u001b[38;5;129;01min\u001b[39;00m output])\n\u001b[0;32m     28\u001b[0m     grid \u001b[38;5;241m=\u001b[39m make_grid(output, nrow\u001b[38;5;241m=\u001b[39m\u001b[38;5;241m4\u001b[39m, padding \u001b[38;5;241m=\u001b[39m \u001b[38;5;241m2\u001b[39m)\n",
      "File \u001b[1;32mc:\\Users\\jurko\\anaconda3\\envs\\image-generator\\Lib\\site-packages\\torch\\nn\\modules\\module.py:1729\u001b[0m, in \u001b[0;36mModule.__getattr__\u001b[1;34m(self, name)\u001b[0m\n\u001b[0;32m   1727\u001b[0m     \u001b[38;5;28;01mif\u001b[39;00m name \u001b[38;5;129;01min\u001b[39;00m modules:\n\u001b[0;32m   1728\u001b[0m         \u001b[38;5;28;01mreturn\u001b[39;00m modules[name]\n\u001b[1;32m-> 1729\u001b[0m \u001b[38;5;28;01mraise\u001b[39;00m \u001b[38;5;167;01mAttributeError\u001b[39;00m(\u001b[38;5;124mf\u001b[39m\u001b[38;5;124m\"\u001b[39m\u001b[38;5;124m'\u001b[39m\u001b[38;5;132;01m{\u001b[39;00m\u001b[38;5;28mtype\u001b[39m(\u001b[38;5;28mself\u001b[39m)\u001b[38;5;241m.\u001b[39m\u001b[38;5;18m__name__\u001b[39m\u001b[38;5;132;01m}\u001b[39;00m\u001b[38;5;124m'\u001b[39m\u001b[38;5;124m object has no attribute \u001b[39m\u001b[38;5;124m'\u001b[39m\u001b[38;5;132;01m{\u001b[39;00mname\u001b[38;5;132;01m}\u001b[39;00m\u001b[38;5;124m'\u001b[39m\u001b[38;5;124m\"\u001b[39m)\n",
      "\u001b[1;31mAttributeError\u001b[0m: 'Sequential' object has no attribute 'decoder'"
     ]
    }
   ],
   "source": [
    "dataset[0][0]\n",
    "def show(autoencoder):\n",
    "    from torchvision.utils import make_grid\n",
    "    import matplotlib.pyplot as plt\n",
    "    autoencoder.eval()\n",
    "    images_not, _ = next(iter(dataloader))\n",
    "    images = torch.stack([image for image in images_not[:8]])\n",
    "    print(images[3].int().shape)\n",
    "    print(images.shape)\n",
    "    grid = make_grid(images, nrow=4, padding = 2)\n",
    "    print(grid.shape)\n",
    "    plt.imshow(grid.permute(1,2,0))\n",
    "\n",
    "    plt.show()\n",
    "\n",
    "    autoencoder.eval()\n",
    "    with torch.no_grad():\n",
    "        output = autoencoder(images_not[:8])\n",
    "        output = torch.stack([image for image in output])\n",
    "        grid = make_grid(output, nrow=4, padding = 2)\n",
    "        plt.imshow(grid.permute(1,2,0))\n",
    "        plt.show()\n",
    "\n",
    "    with torch.no_grad():\n",
    "        images_not = torch.randn(8,30)\n",
    "        output = autoencoder.decoder(images_not[:8])\n",
    "        output = torch.stack([image.int() for image in output])\n",
    "        grid = make_grid(output, nrow=4, padding = 2)\n",
    "        plt.imshow(grid.permute(1,2,0))\n",
    "        plt.show()\n",
    "\n",
    "show(autoencoder)\n"
   ]
  },
  {
   "cell_type": "markdown",
   "metadata": {},
   "source": [
    "\n",
    "# CONV Autoencoder"
   ]
  },
  {
   "cell_type": "code",
   "execution_count": 6,
   "metadata": {},
   "outputs": [],
   "source": [
    "class ConvEncoder(nn.Module):\n",
    "    def __init__(self) -> None:\n",
    "        super(ConvEncoder, self).__init__()\n",
    "        self.encoder = nn.Sequential(\n",
    "            nn.Conv2d(\n",
    "                in_channels=3, out_channels=16, kernel_size=(4, 4), padding=\"same\"\n",
    "            ),  # mx16x16x3 -> mx16x16x16\n",
    "            nn.MaxPool2d(kernel_size=(2, 2)),  #mx16x8x8\n",
    "            nn.Dropout(0.3),\n",
    "            nn.Conv2d(in_channels=16, out_channels=32, kernel_size=(2,2)), #mx32x8x8\n",
    "            nn.MaxPool2d(kernel_size=(2, 2), padding=1),  #mx32x4x4\n",
    "            nn.Conv2d(in_channels=32,out_channels=64, kernel_size=(2,2), padding = \"same\"), #mx64x4x4\n",
    "            nn.MaxPool2d(kernel_size=(2, 2)), #mx64x2x2,\n",
    "            nn.Conv2d(in_channels=64,out_channels=128, kernel_size=(2,2), padding = \"same\"), #mx128x2x2\n",
    "            nn.MaxPool2d(kernel_size=(2, 2)), #mx128x1x1,\n",
    "            nn.Flatten() # mx128\n",
    "        )\n",
    "\n",
    "    def forward(self, x):\n",
    "        x = self.encoder(x)\n",
    "        return x"
   ]
  },
  {
   "cell_type": "code",
   "execution_count": 95,
   "metadata": {},
   "outputs": [],
   "source": [
    "class ConvDecoder(nn.Module):\n",
    "    def __init__(self) -> None:\n",
    "        super(ConvDecoder, self).__init__()\n",
    "        self.decoder = nn.Sequential(\n",
    "            nn.Unflatten(1, (-1, 1, 1)),  # mx128x1x1\n",
    "            nn.Upsample(scale_factor=2),  # mx128x2x2\n",
    "            nn.Conv2d(128, 64, kernel_size=(2, 2), padding=\"same\"),  # mx128x2x2\n",
    "            nn.Upsample(scale_factor=2),\n",
    "            nn.Conv2d(64, 32, kernel_size=(2, 2), padding=\"same\"),  # mx32x4x4\n",
    "            nn.Upsample(scale_factor=2),\n",
    "            nn.Conv2d(32, 16, kernel_size=(2, 2), padding=\"same\"),  # mx16x8x8\n",
    "            nn.Upsample(scale_factor=2),\n",
    "            nn.Conv2d(16, 16, kernel_size=(2, 2), padding=\"same\"),  # mx16x16x16\n",
    "            # nn.Conv2d(16, 3, kernel_size=(2, 2), padding=\"same\"),  # mx3x16x16\n",
    "            nn.Flatten(1),\n",
    "            nn.Linear(16 * 16 * 16, 3 * 16 * 16),\n",
    "            nn.ReLu(),\n",
    "            nn.Unflatten(1, (3, 16, 16)),\n",
    "        )\n",
    "\n",
    "    def forward(self, x: Tensor) -> Tensor:\n",
    "        x = self.decoder(x)\n",
    "        return x"
   ]
  },
  {
   "cell_type": "code",
   "execution_count": 103,
   "metadata": {},
   "outputs": [],
   "source": [
    "class ConvEncoder(nn.Module):\n",
    "    def __init__(self) -> None:\n",
    "        super(ConvEncoder, self).__init__()\n",
    "        self.encoder = nn.Sequential(\n",
    "            nn.Conv2d(\n",
    "                in_channels=3, out_channels=16, kernel_size=(4, 4), padding=\"same\"\n",
    "            ),  # mx16x16x3 -> mx16x16x16\n",
    "            nn.BatchNorm2d(16),\n",
    "            nn.MaxPool2d(kernel_size=(2, 2)),  # mx16x8x8\n",
    "            # nn.Dropout(0.3),\n",
    "            # nn.Conv2d(in_channels=16, out_channels=32, kernel_size=(2, 2)),  # mx32x8x8\n",
    "            # nn.BatchNorm2d(32),\n",
    "            # nn.MaxPool2d(kernel_size=(2, 2), padding=1),  # mx32x4x4\n",
    "            # nn.Conv2d(\n",
    "            #     in_channels=32, out_channels=64, kernel_size=(2, 2), padding=\"same\"\n",
    "            # ),  # mx64x4x4\n",
    "            # nn.BatchNorm2d(64),\n",
    "            # nn.MaxPool2d(kernel_size=(2, 2)),  # mx64x2x2,\n",
    "            # nn.Conv2d(\n",
    "            #     in_channels=64, out_channels=128, kernel_size=(2, 2), padding=\"same\"\n",
    "            # ),  # mx128x2x2\n",
    "            # nn.MaxPool2d(kernel_size=(2, 2)),  # mx128x1x1,\n",
    "            nn.Flatten(),  # mx128 #mx64x2x2\n",
    "            nn.Linear(16*8*8, 128),\n",
    "            nn.LeakyReLU(0.2,inplace=True),\n",
    "        )\n",
    "\n",
    "    def forward(self, x: Tensor) -> Tensor:\n",
    "        x = self.encoder(x)\n",
    "        return x\n",
    "\n",
    "\n",
    "class ConvDecoder(nn.Module):\n",
    "    def __init__(self) -> None:\n",
    "        super(ConvDecoder, self).__init__()\n",
    "        self.decoder = nn.Sequential(\n",
    "            nn.Unflatten(1, (-1, 1, 1)),  # mx128x1x1\n",
    "            nn.Upsample(scale_factor=2),  # mx128x2x2\n",
    "            nn.Conv2d(128, 64, kernel_size=(2, 2), padding=\"same\"),  # mx64x2x2\n",
    "            nn.BatchNorm2d(64),\n",
    "            # nn.Upsample(scale_factor=2),\n",
    "            # nn.Conv2d(64, 32, kernel_size=(2, 2), padding=\"same\"),  # mx32x4x4\n",
    "            # nn.BatchNorm2d(32),\n",
    "            # nn.Upsample(scale_factor=2),\n",
    "            # nn.Conv2d(32, 16, kernel_size=(2, 2), padding=\"same\"),  # mx16x8x8\n",
    "            # nn.BatchNorm2d(16),\n",
    "            # nn.Upsample(scale_factor=2),\n",
    "            # nn.Conv2d(16, 16, kernel_size=(2, 2), padding=\"same\"),  # mx16x16x16\n",
    "            # nn.BatchNorm2d(16),\n",
    "            # nn.Conv2d(16, 3, kernel_size=(2, 2), padding=\"same\"),  # mx3x16x16\n",
    "            nn.Flatten(1),\n",
    "            # nn.Linear(16 * 16 * 16, 3 * 16 * 16),\n",
    "            nn.Linear(64*2*2, 3 * 16 * 16),\n",
    "            nn.Sigmoid(),\n",
    "            nn.Unflatten(1, (3, 16, 16)),\n",
    "        )\n",
    "\n",
    "    def forward(self, x: Tensor) -> Tensor:\n",
    "        x = self.decoder(x)\n",
    "        return x\n",
    "\n",
    "\n",
    "class ConvAutoEncoder(nn.Module):\n",
    "    def __init__(self) -> None:\n",
    "        super().__init__()\n",
    "        self.encoder = ConvEncoder()\n",
    "        self.decoder = ConvDecoder()\n",
    "        self.autoencoder = nn.Sequential(self.encoder, self.decoder)\n",
    "\n",
    "    def forward(self, x: Tensor) -> Tensor:\n",
    "        o = self.autoencoder(x)\n",
    "        return o\n"
   ]
  },
  {
   "cell_type": "code",
   "execution_count": 104,
   "metadata": {},
   "outputs": [
    {
     "name": "stdout",
     "output_type": "stream",
     "text": [
      "torch.Size([1, 3, 16, 16])\n",
      "torch.Size([256, 128])\n"
     ]
    },
    {
     "data": {
      "text/plain": [
       "torch.Size([256, 3, 16, 16])"
      ]
     },
     "execution_count": 104,
     "metadata": {},
     "output_type": "execute_result"
    }
   ],
   "source": [
    "\n",
    "images = dataset[0][0].unsqueeze(0)\n",
    "print(images.shape)\n",
    "# images, _ = next(iter(dataloader))\n",
    "conv = ConvEncoder()\n",
    "out = conv(images)\n",
    "out.shape\n",
    "out = torch.cat((out, torch.zeros((255, 128))), dim = 0)\n",
    "print(out.shape)\n",
    "dec = ConvDecoder()\n",
    "dec(out).shape"
   ]
  },
  {
   "cell_type": "code",
   "execution_count": 105,
   "metadata": {},
   "outputs": [
    {
     "data": {
      "text/plain": [
       "torch.Size([1, 3, 16, 16])"
      ]
     },
     "execution_count": 105,
     "metadata": {},
     "output_type": "execute_result"
    }
   ],
   "source": [
    "auto = ConvAutoEncoder()\n",
    "optimizer = Adam(auto.parameters(), lr=0.01)\n",
    "scheduler = ExponentialLR(optimizer, gamma=0.9)\n",
    "auto(images).shape"
   ]
  },
  {
   "cell_type": "code",
   "execution_count": 106,
   "metadata": {},
   "outputs": [
    {
     "name": "stdout",
     "output_type": "stream",
     "text": [
      "Epoch 1\n",
      "-------------------------------\n",
      "loss: 0.176025  [    0/   32]\n",
      "Epoch 2\n",
      "-------------------------------\n",
      "loss: 0.081120  [    0/   32]\n",
      "Epoch 3\n",
      "-------------------------------\n",
      "loss: 0.050965  [    0/   32]\n",
      "Epoch 4\n",
      "-------------------------------\n",
      "loss: 0.061537  [    0/   32]\n",
      "Epoch 5\n",
      "-------------------------------\n",
      "loss: 0.044325  [    0/   32]\n",
      "Epoch 6\n",
      "-------------------------------\n",
      "loss: 0.033973  [    0/   32]\n",
      "Epoch 7\n",
      "-------------------------------\n",
      "loss: 0.044722  [    0/   32]\n",
      "Epoch 8\n",
      "-------------------------------\n",
      "loss: 0.056453  [    0/   32]\n",
      "Epoch 9\n",
      "-------------------------------\n",
      "loss: 0.049681  [    0/   32]\n",
      "Epoch 10\n",
      "-------------------------------\n",
      "loss: 0.051258  [    0/   32]\n",
      "Epoch 11\n",
      "-------------------------------\n",
      "loss: 0.028659  [    0/   32]\n",
      "Epoch 12\n",
      "-------------------------------\n",
      "loss: 0.034248  [    0/   32]\n",
      "Epoch 13\n",
      "-------------------------------\n",
      "loss: 0.037584  [    0/   32]\n",
      "Epoch 14\n",
      "-------------------------------\n",
      "loss: 0.029688  [    0/   32]\n",
      "Epoch 15\n",
      "-------------------------------\n",
      "loss: 0.020156  [    0/   32]\n",
      "Epoch 16\n",
      "-------------------------------\n",
      "loss: 0.029560  [    0/   32]\n",
      "Epoch 17\n",
      "-------------------------------\n",
      "loss: 0.025635  [    0/   32]\n",
      "Epoch 18\n",
      "-------------------------------\n",
      "loss: 0.024301  [    0/   32]\n",
      "Epoch 19\n",
      "-------------------------------\n",
      "loss: 0.016263  [    0/   32]\n",
      "Epoch 20\n",
      "-------------------------------\n",
      "loss: 0.021993  [    0/   32]\n",
      "Epoch 21\n",
      "-------------------------------\n",
      "loss: 0.023163  [    0/   32]\n",
      "Epoch 22\n",
      "-------------------------------\n",
      "loss: 0.013108  [    0/   32]\n",
      "Epoch 23\n",
      "-------------------------------\n",
      "loss: 0.014885  [    0/   32]\n",
      "Epoch 24\n",
      "-------------------------------\n",
      "loss: 0.013159  [    0/   32]\n",
      "Epoch 25\n",
      "-------------------------------\n",
      "loss: 0.020573  [    0/   32]\n",
      "Epoch 26\n",
      "-------------------------------\n",
      "loss: 0.012985  [    0/   32]\n",
      "Epoch 27\n",
      "-------------------------------\n",
      "loss: 0.019752  [    0/   32]\n",
      "Epoch 28\n",
      "-------------------------------\n",
      "loss: 0.019622  [    0/   32]\n",
      "Epoch 29\n",
      "-------------------------------\n",
      "loss: 0.022664  [    0/   32]\n",
      "Epoch 30\n",
      "-------------------------------\n",
      "loss: 0.017872  [    0/   32]\n",
      "Epoch 31\n",
      "-------------------------------\n",
      "loss: 0.017538  [    0/   32]\n",
      "Epoch 32\n",
      "-------------------------------\n",
      "loss: 0.015162  [    0/   32]\n",
      "Epoch 33\n",
      "-------------------------------\n",
      "loss: 0.010542  [    0/   32]\n",
      "Epoch 34\n",
      "-------------------------------\n",
      "loss: 0.010766  [    0/   32]\n",
      "Epoch 35\n",
      "-------------------------------\n",
      "loss: 0.018229  [    0/   32]\n",
      "Epoch 36\n",
      "-------------------------------\n",
      "loss: 0.012589  [    0/   32]\n",
      "Epoch 37\n",
      "-------------------------------\n",
      "loss: 0.010882  [    0/   32]\n",
      "Epoch 38\n",
      "-------------------------------\n",
      "loss: 0.007911  [    0/   32]\n",
      "Epoch 39\n",
      "-------------------------------\n",
      "loss: 0.008893  [    0/   32]\n",
      "Epoch 40\n",
      "-------------------------------\n",
      "loss: 0.007168  [    0/   32]\n",
      "Epoch 41\n",
      "-------------------------------\n",
      "loss: 0.006045  [    0/   32]\n",
      "Epoch 42\n",
      "-------------------------------\n",
      "loss: 0.005922  [    0/   32]\n",
      "Epoch 43\n",
      "-------------------------------\n",
      "loss: 0.004684  [    0/   32]\n",
      "Epoch 44\n",
      "-------------------------------\n",
      "loss: 0.006473  [    0/   32]\n",
      "Epoch 45\n",
      "-------------------------------\n",
      "loss: 0.009348  [    0/   32]\n",
      "Epoch 46\n",
      "-------------------------------\n",
      "loss: 0.006677  [    0/   32]\n",
      "Epoch 47\n",
      "-------------------------------\n",
      "loss: 0.005387  [    0/   32]\n",
      "Epoch 48\n",
      "-------------------------------\n",
      "loss: 0.004875  [    0/   32]\n",
      "Epoch 49\n",
      "-------------------------------\n",
      "loss: 0.006238  [    0/   32]\n",
      "Epoch 50\n",
      "-------------------------------\n",
      "loss: 0.005849  [    0/   32]\n",
      "Epoch 51\n",
      "-------------------------------\n",
      "loss: 0.005772  [    0/   32]\n",
      "Epoch 52\n",
      "-------------------------------\n",
      "loss: 0.004329  [    0/   32]\n",
      "Epoch 53\n",
      "-------------------------------\n",
      "loss: 0.004785  [    0/   32]\n",
      "Epoch 54\n",
      "-------------------------------\n",
      "loss: 0.006270  [    0/   32]\n",
      "Epoch 55\n",
      "-------------------------------\n",
      "loss: 0.005462  [    0/   32]\n",
      "Epoch 56\n",
      "-------------------------------\n",
      "loss: 0.005294  [    0/   32]\n",
      "Epoch 57\n",
      "-------------------------------\n",
      "loss: 0.007716  [    0/   32]\n",
      "Epoch 58\n",
      "-------------------------------\n",
      "loss: 0.005605  [    0/   32]\n",
      "Epoch 59\n",
      "-------------------------------\n",
      "loss: 0.006605  [    0/   32]\n",
      "Epoch 60\n",
      "-------------------------------\n",
      "loss: 0.004508  [    0/   32]\n",
      "Epoch 61\n",
      "-------------------------------\n",
      "loss: 0.004823  [    0/   32]\n",
      "Epoch 62\n",
      "-------------------------------\n",
      "loss: 0.004222  [    0/   32]\n",
      "Epoch 63\n",
      "-------------------------------\n",
      "loss: 0.004244  [    0/   32]\n",
      "Epoch 64\n",
      "-------------------------------\n",
      "loss: 0.005212  [    0/   32]\n",
      "Epoch 65\n",
      "-------------------------------\n",
      "loss: 0.003581  [    0/   32]\n",
      "Epoch 66\n",
      "-------------------------------\n",
      "loss: 0.003969  [    0/   32]\n",
      "Epoch 67\n",
      "-------------------------------\n",
      "loss: 0.005196  [    0/   32]\n",
      "Epoch 68\n",
      "-------------------------------\n",
      "loss: 0.004668  [    0/   32]\n",
      "Epoch 69\n",
      "-------------------------------\n",
      "loss: 0.005519  [    0/   32]\n",
      "Epoch 70\n",
      "-------------------------------\n",
      "loss: 0.006257  [    0/   32]\n",
      "Epoch 71\n",
      "-------------------------------\n",
      "loss: 0.004186  [    0/   32]\n",
      "Epoch 72\n",
      "-------------------------------\n",
      "loss: 0.003386  [    0/   32]\n",
      "Epoch 73\n",
      "-------------------------------\n",
      "loss: 0.002957  [    0/   32]\n",
      "Epoch 74\n",
      "-------------------------------\n",
      "loss: 0.003711  [    0/   32]\n",
      "Epoch 75\n",
      "-------------------------------\n",
      "loss: 0.002309  [    0/   32]\n",
      "Epoch 76\n",
      "-------------------------------\n",
      "loss: 0.003891  [    0/   32]\n",
      "Epoch 77\n",
      "-------------------------------\n",
      "loss: 0.004308  [    0/   32]\n",
      "Epoch 78\n",
      "-------------------------------\n",
      "loss: 0.002698  [    0/   32]\n",
      "Epoch 79\n",
      "-------------------------------\n",
      "loss: 0.003149  [    0/   32]\n",
      "Epoch 80\n",
      "-------------------------------\n",
      "loss: 0.003191  [    0/   32]\n",
      "Epoch 81\n",
      "-------------------------------\n",
      "loss: 0.002856  [    0/   32]\n",
      "Epoch 82\n",
      "-------------------------------\n",
      "loss: 0.002943  [    0/   32]\n",
      "Epoch 83\n",
      "-------------------------------\n",
      "loss: 0.002801  [    0/   32]\n",
      "Epoch 84\n",
      "-------------------------------\n",
      "loss: 0.001954  [    0/   32]\n",
      "Epoch 85\n",
      "-------------------------------\n",
      "loss: 0.001874  [    0/   32]\n",
      "Epoch 86\n",
      "-------------------------------\n",
      "loss: 0.003435  [    0/   32]\n",
      "Epoch 87\n",
      "-------------------------------\n",
      "loss: 0.002114  [    0/   32]\n",
      "Epoch 88\n",
      "-------------------------------\n",
      "loss: 0.002416  [    0/   32]\n",
      "Epoch 89\n",
      "-------------------------------\n",
      "loss: 0.001858  [    0/   32]\n",
      "Epoch 90\n",
      "-------------------------------\n",
      "loss: 0.002558  [    0/   32]\n",
      "Epoch 91\n",
      "-------------------------------\n",
      "loss: 0.001783  [    0/   32]\n",
      "Epoch 92\n",
      "-------------------------------\n",
      "loss: 0.001515  [    0/   32]\n",
      "Epoch 93\n",
      "-------------------------------\n",
      "loss: 0.001427  [    0/   32]\n",
      "Epoch 94\n",
      "-------------------------------\n",
      "loss: 0.002209  [    0/   32]\n",
      "Epoch 95\n",
      "-------------------------------\n",
      "loss: 0.001804  [    0/   32]\n",
      "Epoch 96\n",
      "-------------------------------\n",
      "loss: 0.001829  [    0/   32]\n",
      "Epoch 97\n",
      "-------------------------------\n",
      "loss: 0.001799  [    0/   32]\n",
      "Epoch 98\n",
      "-------------------------------\n",
      "loss: 0.001517  [    0/   32]\n",
      "Epoch 99\n",
      "-------------------------------\n",
      "loss: 0.001279  [    0/   32]\n",
      "Epoch 100\n",
      "-------------------------------\n",
      "loss: 0.001935  [    0/   32]\n"
     ]
    }
   ],
   "source": [
    "losses, gradients = train_loop(dataloader, auto, MSELoss(), optimizer, epochs=100)"
   ]
  },
  {
   "cell_type": "code",
   "execution_count": 107,
   "metadata": {},
   "outputs": [
    {
     "data": {
      "image/png": "[encoded data removed]",
      "text/plain": [
       "<Figure size 640x480 with 2 Axes>"
      ]
     },
     "metadata": {},
     "output_type": "display_data"
    }
   ],
   "source": [
    "\n",
    "fig, axes = plt.subplots(2)\n",
    "axes[0].plot(torch.log10(torch.tensor(losses)))\n",
    "axes[1].plot(gradients)\n",
    "plt.show()"
   ]
  },
  {
   "cell_type": "code",
   "execution_count": 108,
   "metadata": {},
   "outputs": [
    {
     "name": "stdout",
     "output_type": "stream",
     "text": [
      "torch.Size([3, 16, 16])\n",
      "torch.Size([4, 3, 16, 16])\n",
      "torch.Size([3, 20, 74])\n"
     ]
    },
    {
     "data": {
      "image/png": "[encoded data removed]",
      "text/plain": [
       "<Figure size 640x480 with 1 Axes>"
      ]
     },
     "metadata": {},
     "output_type": "display_data"
    },
    {
     "data": {
      "image/png": "[encoded data removed]",
      "text/plain": [
       "<Figure size 640x480 with 1 Axes>"
      ]
     },
     "metadata": {},
     "output_type": "display_data"
    },
    {
     "ename": "RuntimeError",
     "evalue": "Given groups=1, weight of size [64, 128, 2, 2], expected input[8, 30, 3, 3] to have 128 channels, but got 30 channels instead",
     "output_type": "error",
     "traceback": [
      "\u001b[1;31m---------------------------------------------------------------------------\u001b[0m",
      "\u001b[1;31mRuntimeError\u001b[0m                              Traceback (most recent call last)",
      "Cell \u001b[1;32mIn[108], line 1\u001b[0m\n\u001b[1;32m----> 1\u001b[0m \u001b[43mshow\u001b[49m\u001b[43m(\u001b[49m\u001b[43mauto\u001b[49m\u001b[43m)\u001b[49m\n",
      "Cell \u001b[1;32mIn[79], line 26\u001b[0m, in \u001b[0;36mshow\u001b[1;34m(autoencoder)\u001b[0m\n\u001b[0;32m     24\u001b[0m \u001b[38;5;28;01mwith\u001b[39;00m torch\u001b[38;5;241m.\u001b[39mno_grad():\n\u001b[0;32m     25\u001b[0m     images_not \u001b[38;5;241m=\u001b[39m torch\u001b[38;5;241m.\u001b[39mrandn(\u001b[38;5;241m8\u001b[39m,\u001b[38;5;241m30\u001b[39m)\n\u001b[1;32m---> 26\u001b[0m     output \u001b[38;5;241m=\u001b[39m \u001b[43mautoencoder\u001b[49m\u001b[38;5;241;43m.\u001b[39;49m\u001b[43mdecoder\u001b[49m\u001b[43m(\u001b[49m\u001b[43mimages_not\u001b[49m\u001b[43m[\u001b[49m\u001b[43m:\u001b[49m\u001b[38;5;241;43m8\u001b[39;49m\u001b[43m]\u001b[49m\u001b[43m)\u001b[49m\n\u001b[0;32m     27\u001b[0m     output \u001b[38;5;241m=\u001b[39m torch\u001b[38;5;241m.\u001b[39mstack([image\u001b[38;5;241m.\u001b[39mint() \u001b[38;5;28;01mfor\u001b[39;00m image \u001b[38;5;129;01min\u001b[39;00m output])\n\u001b[0;32m     28\u001b[0m     grid \u001b[38;5;241m=\u001b[39m make_grid(output, nrow\u001b[38;5;241m=\u001b[39m\u001b[38;5;241m4\u001b[39m, padding \u001b[38;5;241m=\u001b[39m \u001b[38;5;241m2\u001b[39m)\n",
      "File \u001b[1;32mc:\\Users\\jurko\\anaconda3\\envs\\image-generator\\Lib\\site-packages\\torch\\nn\\modules\\module.py:1553\u001b[0m, in \u001b[0;36mModule._wrapped_call_impl\u001b[1;34m(self, *args, **kwargs)\u001b[0m\n\u001b[0;32m   1551\u001b[0m     \u001b[38;5;28;01mreturn\u001b[39;00m \u001b[38;5;28mself\u001b[39m\u001b[38;5;241m.\u001b[39m_compiled_call_impl(\u001b[38;5;241m*\u001b[39margs, \u001b[38;5;241m*\u001b[39m\u001b[38;5;241m*\u001b[39mkwargs)  \u001b[38;5;66;03m# type: ignore[misc]\u001b[39;00m\n\u001b[0;32m   1552\u001b[0m \u001b[38;5;28;01melse\u001b[39;00m:\n\u001b[1;32m-> 1553\u001b[0m     \u001b[38;5;28;01mreturn\u001b[39;00m \u001b[38;5;28;43mself\u001b[39;49m\u001b[38;5;241;43m.\u001b[39;49m\u001b[43m_call_impl\u001b[49m\u001b[43m(\u001b[49m\u001b[38;5;241;43m*\u001b[39;49m\u001b[43margs\u001b[49m\u001b[43m,\u001b[49m\u001b[43m \u001b[49m\u001b[38;5;241;43m*\u001b[39;49m\u001b[38;5;241;43m*\u001b[39;49m\u001b[43mkwargs\u001b[49m\u001b[43m)\u001b[49m\n",
      "File \u001b[1;32mc:\\Users\\jurko\\anaconda3\\envs\\image-generator\\Lib\\site-packages\\torch\\nn\\modules\\module.py:1562\u001b[0m, in \u001b[0;36mModule._call_impl\u001b[1;34m(self, *args, **kwargs)\u001b[0m\n\u001b[0;32m   1557\u001b[0m \u001b[38;5;66;03m# If we don't have any hooks, we want to skip the rest of the logic in\u001b[39;00m\n\u001b[0;32m   1558\u001b[0m \u001b[38;5;66;03m# this function, and just call forward.\u001b[39;00m\n\u001b[0;32m   1559\u001b[0m \u001b[38;5;28;01mif\u001b[39;00m \u001b[38;5;129;01mnot\u001b[39;00m (\u001b[38;5;28mself\u001b[39m\u001b[38;5;241m.\u001b[39m_backward_hooks \u001b[38;5;129;01mor\u001b[39;00m \u001b[38;5;28mself\u001b[39m\u001b[38;5;241m.\u001b[39m_backward_pre_hooks \u001b[38;5;129;01mor\u001b[39;00m \u001b[38;5;28mself\u001b[39m\u001b[38;5;241m.\u001b[39m_forward_hooks \u001b[38;5;129;01mor\u001b[39;00m \u001b[38;5;28mself\u001b[39m\u001b[38;5;241m.\u001b[39m_forward_pre_hooks\n\u001b[0;32m   1560\u001b[0m         \u001b[38;5;129;01mor\u001b[39;00m _global_backward_pre_hooks \u001b[38;5;129;01mor\u001b[39;00m _global_backward_hooks\n\u001b[0;32m   1561\u001b[0m         \u001b[38;5;129;01mor\u001b[39;00m _global_forward_hooks \u001b[38;5;129;01mor\u001b[39;00m _global_forward_pre_hooks):\n\u001b[1;32m-> 1562\u001b[0m     \u001b[38;5;28;01mreturn\u001b[39;00m \u001b[43mforward_call\u001b[49m\u001b[43m(\u001b[49m\u001b[38;5;241;43m*\u001b[39;49m\u001b[43margs\u001b[49m\u001b[43m,\u001b[49m\u001b[43m \u001b[49m\u001b[38;5;241;43m*\u001b[39;49m\u001b[38;5;241;43m*\u001b[39;49m\u001b[43mkwargs\u001b[49m\u001b[43m)\u001b[49m\n\u001b[0;32m   1564\u001b[0m \u001b[38;5;28;01mtry\u001b[39;00m:\n\u001b[0;32m   1565\u001b[0m     result \u001b[38;5;241m=\u001b[39m \u001b[38;5;28;01mNone\u001b[39;00m\n",
      "Cell \u001b[1;32mIn[103], line 59\u001b[0m, in \u001b[0;36mConvDecoder.forward\u001b[1;34m(self, x)\u001b[0m\n\u001b[0;32m     58\u001b[0m \u001b[38;5;28;01mdef\u001b[39;00m \u001b[38;5;21mforward\u001b[39m(\u001b[38;5;28mself\u001b[39m, x: Tensor) \u001b[38;5;241m-\u001b[39m\u001b[38;5;241m>\u001b[39m Tensor:\n\u001b[1;32m---> 59\u001b[0m     x \u001b[38;5;241m=\u001b[39m \u001b[38;5;28;43mself\u001b[39;49m\u001b[38;5;241;43m.\u001b[39;49m\u001b[43mdecoder\u001b[49m\u001b[43m(\u001b[49m\u001b[43mx\u001b[49m\u001b[43m)\u001b[49m\n\u001b[0;32m     60\u001b[0m     \u001b[38;5;28;01mreturn\u001b[39;00m x\n",
      "File \u001b[1;32mc:\\Users\\jurko\\anaconda3\\envs\\image-generator\\Lib\\site-packages\\torch\\nn\\modules\\module.py:1553\u001b[0m, in \u001b[0;36mModule._wrapped_call_impl\u001b[1;34m(self, *args, **kwargs)\u001b[0m\n\u001b[0;32m   1551\u001b[0m     \u001b[38;5;28;01mreturn\u001b[39;00m \u001b[38;5;28mself\u001b[39m\u001b[38;5;241m.\u001b[39m_compiled_call_impl(\u001b[38;5;241m*\u001b[39margs, \u001b[38;5;241m*\u001b[39m\u001b[38;5;241m*\u001b[39mkwargs)  \u001b[38;5;66;03m# type: ignore[misc]\u001b[39;00m\n\u001b[0;32m   1552\u001b[0m \u001b[38;5;28;01melse\u001b[39;00m:\n\u001b[1;32m-> 1553\u001b[0m     \u001b[38;5;28;01mreturn\u001b[39;00m \u001b[38;5;28;43mself\u001b[39;49m\u001b[38;5;241;43m.\u001b[39;49m\u001b[43m_call_impl\u001b[49m\u001b[43m(\u001b[49m\u001b[38;5;241;43m*\u001b[39;49m\u001b[43margs\u001b[49m\u001b[43m,\u001b[49m\u001b[43m \u001b[49m\u001b[38;5;241;43m*\u001b[39;49m\u001b[38;5;241;43m*\u001b[39;49m\u001b[43mkwargs\u001b[49m\u001b[43m)\u001b[49m\n",
      "File \u001b[1;32mc:\\Users\\jurko\\anaconda3\\envs\\image-generator\\Lib\\site-packages\\torch\\nn\\modules\\module.py:1562\u001b[0m, in \u001b[0;36mModule._call_impl\u001b[1;34m(self, *args, **kwargs)\u001b[0m\n\u001b[0;32m   1557\u001b[0m \u001b[38;5;66;03m# If we don't have any hooks, we want to skip the rest of the logic in\u001b[39;00m\n\u001b[0;32m   1558\u001b[0m \u001b[38;5;66;03m# this function, and just call forward.\u001b[39;00m\n\u001b[0;32m   1559\u001b[0m \u001b[38;5;28;01mif\u001b[39;00m \u001b[38;5;129;01mnot\u001b[39;00m (\u001b[38;5;28mself\u001b[39m\u001b[38;5;241m.\u001b[39m_backward_hooks \u001b[38;5;129;01mor\u001b[39;00m \u001b[38;5;28mself\u001b[39m\u001b[38;5;241m.\u001b[39m_backward_pre_hooks \u001b[38;5;129;01mor\u001b[39;00m \u001b[38;5;28mself\u001b[39m\u001b[38;5;241m.\u001b[39m_forward_hooks \u001b[38;5;129;01mor\u001b[39;00m \u001b[38;5;28mself\u001b[39m\u001b[38;5;241m.\u001b[39m_forward_pre_hooks\n\u001b[0;32m   1560\u001b[0m         \u001b[38;5;129;01mor\u001b[39;00m _global_backward_pre_hooks \u001b[38;5;129;01mor\u001b[39;00m _global_backward_hooks\n\u001b[0;32m   1561\u001b[0m         \u001b[38;5;129;01mor\u001b[39;00m _global_forward_hooks \u001b[38;5;129;01mor\u001b[39;00m _global_forward_pre_hooks):\n\u001b[1;32m-> 1562\u001b[0m     \u001b[38;5;28;01mreturn\u001b[39;00m \u001b[43mforward_call\u001b[49m\u001b[43m(\u001b[49m\u001b[38;5;241;43m*\u001b[39;49m\u001b[43margs\u001b[49m\u001b[43m,\u001b[49m\u001b[43m \u001b[49m\u001b[38;5;241;43m*\u001b[39;49m\u001b[38;5;241;43m*\u001b[39;49m\u001b[43mkwargs\u001b[49m\u001b[43m)\u001b[49m\n\u001b[0;32m   1564\u001b[0m \u001b[38;5;28;01mtry\u001b[39;00m:\n\u001b[0;32m   1565\u001b[0m     result \u001b[38;5;241m=\u001b[39m \u001b[38;5;28;01mNone\u001b[39;00m\n",
      "File \u001b[1;32mc:\\Users\\jurko\\anaconda3\\envs\\image-generator\\Lib\\site-packages\\torch\\nn\\modules\\container.py:219\u001b[0m, in \u001b[0;36mSequential.forward\u001b[1;34m(self, input)\u001b[0m\n\u001b[0;32m    217\u001b[0m \u001b[38;5;28;01mdef\u001b[39;00m \u001b[38;5;21mforward\u001b[39m(\u001b[38;5;28mself\u001b[39m, \u001b[38;5;28minput\u001b[39m):\n\u001b[0;32m    218\u001b[0m     \u001b[38;5;28;01mfor\u001b[39;00m module \u001b[38;5;129;01min\u001b[39;00m \u001b[38;5;28mself\u001b[39m:\n\u001b[1;32m--> 219\u001b[0m         \u001b[38;5;28minput\u001b[39m \u001b[38;5;241m=\u001b[39m \u001b[43mmodule\u001b[49m\u001b[43m(\u001b[49m\u001b[38;5;28;43minput\u001b[39;49m\u001b[43m)\u001b[49m\n\u001b[0;32m    220\u001b[0m     \u001b[38;5;28;01mreturn\u001b[39;00m \u001b[38;5;28minput\u001b[39m\n",
      "File \u001b[1;32mc:\\Users\\jurko\\anaconda3\\envs\\image-generator\\Lib\\site-packages\\torch\\nn\\modules\\module.py:1553\u001b[0m, in \u001b[0;36mModule._wrapped_call_impl\u001b[1;34m(self, *args, **kwargs)\u001b[0m\n\u001b[0;32m   1551\u001b[0m     \u001b[38;5;28;01mreturn\u001b[39;00m \u001b[38;5;28mself\u001b[39m\u001b[38;5;241m.\u001b[39m_compiled_call_impl(\u001b[38;5;241m*\u001b[39margs, \u001b[38;5;241m*\u001b[39m\u001b[38;5;241m*\u001b[39mkwargs)  \u001b[38;5;66;03m# type: ignore[misc]\u001b[39;00m\n\u001b[0;32m   1552\u001b[0m \u001b[38;5;28;01melse\u001b[39;00m:\n\u001b[1;32m-> 1553\u001b[0m     \u001b[38;5;28;01mreturn\u001b[39;00m \u001b[38;5;28;43mself\u001b[39;49m\u001b[38;5;241;43m.\u001b[39;49m\u001b[43m_call_impl\u001b[49m\u001b[43m(\u001b[49m\u001b[38;5;241;43m*\u001b[39;49m\u001b[43margs\u001b[49m\u001b[43m,\u001b[49m\u001b[43m \u001b[49m\u001b[38;5;241;43m*\u001b[39;49m\u001b[38;5;241;43m*\u001b[39;49m\u001b[43mkwargs\u001b[49m\u001b[43m)\u001b[49m\n",
      "File \u001b[1;32mc:\\Users\\jurko\\anaconda3\\envs\\image-generator\\Lib\\site-packages\\torch\\nn\\modules\\module.py:1562\u001b[0m, in \u001b[0;36mModule._call_impl\u001b[1;34m(self, *args, **kwargs)\u001b[0m\n\u001b[0;32m   1557\u001b[0m \u001b[38;5;66;03m# If we don't have any hooks, we want to skip the rest of the logic in\u001b[39;00m\n\u001b[0;32m   1558\u001b[0m \u001b[38;5;66;03m# this function, and just call forward.\u001b[39;00m\n\u001b[0;32m   1559\u001b[0m \u001b[38;5;28;01mif\u001b[39;00m \u001b[38;5;129;01mnot\u001b[39;00m (\u001b[38;5;28mself\u001b[39m\u001b[38;5;241m.\u001b[39m_backward_hooks \u001b[38;5;129;01mor\u001b[39;00m \u001b[38;5;28mself\u001b[39m\u001b[38;5;241m.\u001b[39m_backward_pre_hooks \u001b[38;5;129;01mor\u001b[39;00m \u001b[38;5;28mself\u001b[39m\u001b[38;5;241m.\u001b[39m_forward_hooks \u001b[38;5;129;01mor\u001b[39;00m \u001b[38;5;28mself\u001b[39m\u001b[38;5;241m.\u001b[39m_forward_pre_hooks\n\u001b[0;32m   1560\u001b[0m         \u001b[38;5;129;01mor\u001b[39;00m _global_backward_pre_hooks \u001b[38;5;129;01mor\u001b[39;00m _global_backward_hooks\n\u001b[0;32m   1561\u001b[0m         \u001b[38;5;129;01mor\u001b[39;00m _global_forward_hooks \u001b[38;5;129;01mor\u001b[39;00m _global_forward_pre_hooks):\n\u001b[1;32m-> 1562\u001b[0m     \u001b[38;5;28;01mreturn\u001b[39;00m \u001b[43mforward_call\u001b[49m\u001b[43m(\u001b[49m\u001b[38;5;241;43m*\u001b[39;49m\u001b[43margs\u001b[49m\u001b[43m,\u001b[49m\u001b[43m \u001b[49m\u001b[38;5;241;43m*\u001b[39;49m\u001b[38;5;241;43m*\u001b[39;49m\u001b[43mkwargs\u001b[49m\u001b[43m)\u001b[49m\n\u001b[0;32m   1564\u001b[0m \u001b[38;5;28;01mtry\u001b[39;00m:\n\u001b[0;32m   1565\u001b[0m     result \u001b[38;5;241m=\u001b[39m \u001b[38;5;28;01mNone\u001b[39;00m\n",
      "File \u001b[1;32mc:\\Users\\jurko\\anaconda3\\envs\\image-generator\\Lib\\site-packages\\torch\\nn\\modules\\conv.py:458\u001b[0m, in \u001b[0;36mConv2d.forward\u001b[1;34m(self, input)\u001b[0m\n\u001b[0;32m    457\u001b[0m \u001b[38;5;28;01mdef\u001b[39;00m \u001b[38;5;21mforward\u001b[39m(\u001b[38;5;28mself\u001b[39m, \u001b[38;5;28minput\u001b[39m: Tensor) \u001b[38;5;241m-\u001b[39m\u001b[38;5;241m>\u001b[39m Tensor:\n\u001b[1;32m--> 458\u001b[0m     \u001b[38;5;28;01mreturn\u001b[39;00m \u001b[38;5;28;43mself\u001b[39;49m\u001b[38;5;241;43m.\u001b[39;49m\u001b[43m_conv_forward\u001b[49m\u001b[43m(\u001b[49m\u001b[38;5;28;43minput\u001b[39;49m\u001b[43m,\u001b[49m\u001b[43m \u001b[49m\u001b[38;5;28;43mself\u001b[39;49m\u001b[38;5;241;43m.\u001b[39;49m\u001b[43mweight\u001b[49m\u001b[43m,\u001b[49m\u001b[43m \u001b[49m\u001b[38;5;28;43mself\u001b[39;49m\u001b[38;5;241;43m.\u001b[39;49m\u001b[43mbias\u001b[49m\u001b[43m)\u001b[49m\n",
      "File \u001b[1;32mc:\\Users\\jurko\\anaconda3\\envs\\image-generator\\Lib\\site-packages\\torch\\nn\\modules\\conv.py:454\u001b[0m, in \u001b[0;36mConv2d._conv_forward\u001b[1;34m(self, input, weight, bias)\u001b[0m\n\u001b[0;32m    450\u001b[0m \u001b[38;5;28;01mif\u001b[39;00m \u001b[38;5;28mself\u001b[39m\u001b[38;5;241m.\u001b[39mpadding_mode \u001b[38;5;241m!=\u001b[39m \u001b[38;5;124m'\u001b[39m\u001b[38;5;124mzeros\u001b[39m\u001b[38;5;124m'\u001b[39m:\n\u001b[0;32m    451\u001b[0m     \u001b[38;5;28;01mreturn\u001b[39;00m F\u001b[38;5;241m.\u001b[39mconv2d(F\u001b[38;5;241m.\u001b[39mpad(\u001b[38;5;28minput\u001b[39m, \u001b[38;5;28mself\u001b[39m\u001b[38;5;241m.\u001b[39m_reversed_padding_repeated_twice, mode\u001b[38;5;241m=\u001b[39m\u001b[38;5;28mself\u001b[39m\u001b[38;5;241m.\u001b[39mpadding_mode),\n\u001b[0;32m    452\u001b[0m                     weight, bias, \u001b[38;5;28mself\u001b[39m\u001b[38;5;241m.\u001b[39mstride,\n\u001b[0;32m    453\u001b[0m                     _pair(\u001b[38;5;241m0\u001b[39m), \u001b[38;5;28mself\u001b[39m\u001b[38;5;241m.\u001b[39mdilation, \u001b[38;5;28mself\u001b[39m\u001b[38;5;241m.\u001b[39mgroups)\n\u001b[1;32m--> 454\u001b[0m \u001b[38;5;28;01mreturn\u001b[39;00m \u001b[43mF\u001b[49m\u001b[38;5;241;43m.\u001b[39;49m\u001b[43mconv2d\u001b[49m\u001b[43m(\u001b[49m\u001b[38;5;28;43minput\u001b[39;49m\u001b[43m,\u001b[49m\u001b[43m \u001b[49m\u001b[43mweight\u001b[49m\u001b[43m,\u001b[49m\u001b[43m \u001b[49m\u001b[43mbias\u001b[49m\u001b[43m,\u001b[49m\u001b[43m \u001b[49m\u001b[38;5;28;43mself\u001b[39;49m\u001b[38;5;241;43m.\u001b[39;49m\u001b[43mstride\u001b[49m\u001b[43m,\u001b[49m\n\u001b[0;32m    455\u001b[0m \u001b[43m                \u001b[49m\u001b[38;5;28;43mself\u001b[39;49m\u001b[38;5;241;43m.\u001b[39;49m\u001b[43mpadding\u001b[49m\u001b[43m,\u001b[49m\u001b[43m \u001b[49m\u001b[38;5;28;43mself\u001b[39;49m\u001b[38;5;241;43m.\u001b[39;49m\u001b[43mdilation\u001b[49m\u001b[43m,\u001b[49m\u001b[43m \u001b[49m\u001b[38;5;28;43mself\u001b[39;49m\u001b[38;5;241;43m.\u001b[39;49m\u001b[43mgroups\u001b[49m\u001b[43m)\u001b[49m\n",
      "\u001b[1;31mRuntimeError\u001b[0m: Given groups=1, weight of size [64, 128, 2, 2], expected input[8, 30, 3, 3] to have 128 channels, but got 30 channels instead"
     ]
    }
   ],
   "source": [
    "show(auto)"
   ]
  },
  {
   "cell_type": "markdown",
   "metadata": {},
   "source": [
    "# VAE"
   ]
  },
  {
   "cell_type": "code",
   "execution_count": 5,
   "metadata": {},
   "outputs": [],
   "source": [
    "def kl_divergence_loss(q_dist) -> torch.Tensor:\n",
    "    return kl_divergence(\n",
    "        q_dist, Normal(torch.zeros_like(q_dist.mean), torch.ones_like(q_dist.stddev))\n",
    "    ).sum(-1)\n",
    "\n",
    "\n",
    "reconstruction_loss = nn.MSELoss(reduction=\"sum\")\n",
    "\n",
    "\n",
    "def vae_loss(reconstructed_images, images, encoding) -> float:\n",
    "    return (\n",
    "        reconstruction_loss(reconstructed_images, images)\n",
    "        + kl_divergence_loss(encoding).sum()\n",
    "    )\n",
    "\n",
    "\n",
    "class Encoder(nn.Module):\n",
    "    \"\"\"\n",
    "    Encoder Class\n",
    "    Values:\n",
    "    im_chan: the number of channels of the output image, a scalar\n",
    "            MNIST is black-and-white (1 channel), so that's our default.\n",
    "    hidden_dim: the inner dimension, a scalar\n",
    "    \"\"\"\n",
    "\n",
    "    def __init__(self, im_chan=1, output_chan=128, hidden_dim=16) -> None:\n",
    "        super(Encoder, self).__init__()\n",
    "        self.z_dim = output_chan\n",
    "        self.disc = nn.Sequential(\n",
    "            # self.make_disc_block(im_chan, hidden_dim),\n",
    "            # self.make_disc_block(hidden_dim, hidden_dim * 2),\n",
    "            # self.make_disc_block(\n",
    "            #     hidden_dim * 2, output_chan * 2, kernel_size=2, final_layer=True\n",
    "            # ),\n",
    "            nn.Conv2d(\n",
    "                in_channels=3, out_channels=16, kernel_size=(4, 4), padding=\"same\"\n",
    "            ),  # mx16x16x3 -> mx16x16x16\n",
    "            nn.BatchNorm2d(16),\n",
    "            nn.MaxPool2d(kernel_size=(2, 2)),  # mx16x8x8\n",
    "            nn.Dropout(0.3),\n",
    "            nn.Conv2d(in_channels=16, out_channels=32, kernel_size=(2, 2)),  # mx32x8x8\n",
    "            nn.BatchNorm2d(32),\n",
    "            nn.MaxPool2d(kernel_size=(2, 2), padding=1),  # mx32x4x4\n",
    "            nn.Conv2d(\n",
    "                in_channels=32, out_channels=64, kernel_size=(2, 2), padding=\"same\"\n",
    "            ),  # mx64x4x4\n",
    "            nn.BatchNorm2d(64),\n",
    "            nn.MaxPool2d(kernel_size=(2, 2)),  # mx64x2x2,\n",
    "            # nn.Conv2d(\n",
    "            #     in_channels=64, out_channels=128, kernel_size=(2, 2), padding=\"same\"\n",
    "            # ),  # mx128x2x2\n",
    "            # nn.MaxPool2d(kernel_size=(2, 2)),  # mx128x1x1,\n",
    "            nn.Conv2d(\n",
    "                in_channels=64, out_channels=128, kernel_size=(2, 2), padding=\"same\"\n",
    "            ),  # mx64x4x4\n",
    "            nn.BatchNorm2d(128),\n",
    "            # nn.MaxPool2d(kernel_size=(2, 2)),  # mx64x2x2,\n",
    "            # nn.Conv2d(\n",
    "            #     in_channels=128, out_channels=256, kernel_size=(2, 2), padding=\"same\"\n",
    "            # ),  # mx64x4x4\n",
    "            # nn.BatchNorm2d(256),\n",
    "            # nn.MaxPool2d(kernel_size=(2, 2)),  # mx64x2x2,\n",
    "            nn.Flatten(),  # mx128 #mx64x2x2\n",
    "            nn.Linear(128 * 2 * 2, 2*self.z_dim),\n",
    "            # nn.ReLU(inplace=True),\n",
    "        )\n",
    "\n",
    "    def make_disc_block(\n",
    "        self,\n",
    "        input_channels,\n",
    "        output_channels,\n",
    "        kernel_size=4,\n",
    "        stride=2,\n",
    "        final_layer=False,\n",
    "    ) -> nn.Sequential:\n",
    "        \"\"\"\n",
    "        Function to return a sequence of operations corresponding to a encoder block of the VAE,\n",
    "        corresponding to a convolution, a batchnorm (except for in the last layer), and an activation\n",
    "        Parameters:\n",
    "        input_channels: how many channels the input feature representation has\n",
    "        output_channels: how many channels the output feature representation should have\n",
    "        kernel_size: the size of each convolutional filter, equivalent to (kernel_size, kernel_size)\n",
    "        stride: the stride of the convolution\n",
    "        final_layer: whether we're on the final layer (affects activation and batchnorm)\n",
    "        \"\"\"\n",
    "        if not final_layer:\n",
    "            return nn.Sequential(\n",
    "                nn.Conv2d(input_channels, output_channels, kernel_size, stride),\n",
    "                nn.BatchNorm2d(output_channels),\n",
    "                nn.LeakyReLU(0.2, inplace=True),\n",
    "            )\n",
    "        else:\n",
    "            return nn.Sequential(\n",
    "                nn.Conv2d(input_channels, output_channels, kernel_size, stride),\n",
    "            )\n",
    "\n",
    "    def forward(self, image) -> tuple[torch.Tensor, torch.Tensor]:\n",
    "        \"\"\"\n",
    "        Function for completing a forward pass of the Encoder: Given an image tensor,\n",
    "        returns a 1-dimension tensor representing fake/real.\n",
    "        Parameters:\n",
    "        image: a flattened image tensor with dimension (im_dim)\n",
    "        \"\"\"\n",
    "        disc_pred = self.disc(image)\n",
    "        print(disc_pred.shape)\n",
    "        encoding = disc_pred.view(len(disc_pred), -1)\n",
    "        # The stddev output is treated as the log of the variance of the normal\n",
    "        # distribution by convention and for numerical stability\n",
    "        return encoding[:, : self.z_dim], encoding[:, self.z_dim :].exp()\n",
    "\n",
    "class Decoder(nn.Module):\n",
    "    \"\"\"\n",
    "    Decoder Class\n",
    "    Values:\n",
    "    z_dim: the dimension of the noise vector, a scalar\n",
    "    im_chan: the number of channels of the output image, a scalar\n",
    "            MNIST is black-and-white, so that's our default\n",
    "    hidden_dim: the inner dimension, a scalar\n",
    "    \"\"\"\n",
    "\n",
    "    def __init__(self, z_dim=32, im_chan=1, hidden_dim=16) -> None:\n",
    "        super(Decoder, self).__init__()\n",
    "        self.z_dim = z_dim\n",
    "        self.gen = nn.Sequential(\n",
    "            # self.make_gen_block(z_dim, hidden_dim * 4),  # 3x3\n",
    "            # self.make_gen_block(\n",
    "            #     hidden_dim * 4, hidden_dim * 2, kernel_size=4, stride=1\n",
    "            # ),  # 6x6\n",
    "            # self.make_gen_block(\n",
    "            #     hidden_dim * 2, hidden_dim, kernel_size=2, stride=2\n",
    "            # ),  # 12x12\n",
    "            # self.make_gen_block(\n",
    "            #     hidden_dim, im_chan, kernel_size=5, stride=1, final_layer=True\n",
    "            # ),  # 26x26\n",
    "            nn.Unflatten(1, (-1, 1, 1)),  # mx128x1x1\n",
    "            nn.Upsample(scale_factor=2),  # mx128x2x2\n",
    "            nn.Conv2d(128, 64, kernel_size=(2, 2), padding=\"same\"),  # mx128x2x2\n",
    "            nn.BatchNorm2d(64),\n",
    "            nn.Upsample(scale_factor=2),\n",
    "            nn.Conv2d(64, 32, kernel_size=(2, 2), padding=\"same\"),  # mx32x4x4\n",
    "            nn.BatchNorm2d(32),\n",
    "            nn.Upsample(scale_factor=2),\n",
    "            nn.Conv2d(32, 16, kernel_size=(2, 2), padding=\"same\"),  # mx16x8x8\n",
    "            nn.BatchNorm2d(16),\n",
    "            nn.Upsample(scale_factor=2),\n",
    "            nn.Conv2d(16, 16, kernel_size=(2, 2), padding=\"same\"),  # mx16x16x16\n",
    "            nn.BatchNorm2d(16),\n",
    "            # nn.Conv2d(16, 3, kernel_size=(2, 2), padding=\"same\"),  # mx3x16x16\n",
    "            nn.Flatten(1),\n",
    "            nn.Linear(16 * 16 * 16, 3 * 16 * 16),\n",
    "            nn.Sigmoid(),\n",
    "            nn.Unflatten(1, (3, 16, 16)),\n",
    "        )\n",
    "\n",
    "    def make_gen_block(\n",
    "        self,\n",
    "        input_channels,\n",
    "        output_channels,\n",
    "        kernel_size=3,\n",
    "        stride=2,\n",
    "        final_layer=False,\n",
    "    ) -> nn.Sequential:\n",
    "        \"\"\"\n",
    "        Function to return a sequence of operations corresponding to a Decoder block of the VAE,\n",
    "        corresponding to a transposed convolution, a batchnorm (except for in the last layer), and an activation\n",
    "        Parameters:\n",
    "        input_channels: how many channels the input feature representation has\n",
    "        output_channels: how many channels the output feature representation should have\n",
    "        kernel_size: the size of each convolutional filter, equivalent to (kernel_size, kernel_size)\n",
    "        stride: the stride of the convolution\n",
    "        final_layer: whether we're on the final layer (affects activation and batchnorm)\n",
    "        \"\"\"\n",
    "        if not final_layer:\n",
    "            return nn.Sequential(\n",
    "                nn.ConvTranspose2d(\n",
    "                    input_channels, output_channels, kernel_size, stride\n",
    "                ),\n",
    "                nn.BatchNorm2d(output_channels),\n",
    "                nn.ReLU(inplace=True),\n",
    "            )\n",
    "        else:\n",
    "            return nn.Sequential(\n",
    "                nn.ConvTranspose2d(\n",
    "                    input_channels, output_channels, kernel_size, stride\n",
    "                ),\n",
    "                nn.Sigmoid(),\n",
    "            )\n",
    "\n",
    "    def forward(self, noise) -> torch.Tensor:\n",
    "        \"\"\"\n",
    "        Function for completing a forward pass of the Decoder: Given a noise vector,\n",
    "        returns a generated image.\n",
    "        Parameters:\n",
    "        noise: a noise tensor with dimensions (batch_size, z_dim)\n",
    "        \"\"\"\n",
    "        # x = noise.view(len(noise), self.z_dim, 1, 1)\n",
    "        return self.gen(noise)"
   ]
  },
  {
   "cell_type": "code",
   "execution_count": 6,
   "metadata": {},
   "outputs": [
    {
     "name": "stdout",
     "output_type": "stream",
     "text": [
      "torch.Size([1, 3, 16, 16])\n",
      "torch.Size([1, 256])\n",
      "torch.Size([1, 128])\n"
     ]
    },
    {
     "name": "stderr",
     "output_type": "stream",
     "text": [
      "c:\\Users\\jurko\\anaconda3\\envs\\image-generator\\Lib\\site-packages\\torch\\nn\\modules\\conv.py:454: UserWarning: Using padding='same' with even kernel lengths and odd dilation may require a zero-padded copy of the input be created (Triggered internally at C:\\cb\\pytorch_1000000000000\\work\\aten\\src\\ATen\\native\\Convolution.cpp:1032.)\n",
      "  return F.conv2d(input, weight, bias, self.stride,\n"
     ]
    },
    {
     "data": {
      "text/plain": [
       "torch.Size([1, 3, 16, 16])"
      ]
     },
     "execution_count": 6,
     "metadata": {},
     "output_type": "execute_result"
    }
   ],
   "source": [
    "images = dataset[0][0].unsqueeze(0)\n",
    "print(images.shape)\n",
    "from torch.distributions.normal import Normal\n",
    "# images, _ = next(iter(dataloader))\n",
    "conv = Encoder()\n",
    "out = conv(images)\n",
    "out[0].shape, out[1].shape\n",
    "# out = torch.cat((out, torch.zeros((255, 128))), dim = 0)\n",
    "# print(out.shape)\n",
    "dec = Decoder()\n",
    "q_mean, q_stddev = out\n",
    "q_dist = Normal(q_mean, q_stddev)\n",
    "z_sample = (\n",
    "    q_dist.rsample()\n",
    ")\n",
    "print(z_sample.shape)\n",
    "dec(z_sample).shape"
   ]
  },
  {
   "cell_type": "markdown",
   "metadata": {},
   "source": [
    "# Diffusion"
   ]
  },
  {
   "cell_type": "code",
   "execution_count": 24,
   "metadata": {},
   "outputs": [],
   "source": [
    "class UnetUp(nn.Module):\n",
    "    def __init__(self, in_channels, out_channels, last_layer = False) -> None:\n",
    "        super(UnetUp, self).__init__()\n",
    "        \n",
    "        self.up = nn.Sequential(nn.Upsample(scale_factor=2), nn.Conv2d(in_channels, out_channels, kernel_size=1))\n",
    "        self.conv = nn.Sequential(nn.Conv2d(out_channels*2, out_channels, kernel_size=3, padding=1), nn.BatchNorm2d(out_channels), nn.ReLU(inplace=True), nn.Conv2d(out_channels, out_channels, kernel_size=3, padding=1), nn.BatchNorm2d(out_channels), nn.ReLU(inplace=True) if not last_layer else nn.Sigmoid())\n",
    "\n",
    "    def forward(self, x, resx):\n",
    "        x = self.up(x)\n",
    "        x = torch.cat([x, resx], dim=1)\n",
    "        x = self.conv(x)\n",
    "        return x\n",
    "    \n",
    "class UnetDown(nn.Module):\n",
    "    def __init__(self, in_channels, out_channels) -> None:\n",
    "        super(UnetDown, self).__init__()\n",
    "        self.conv = nn.Sequential(nn.Conv2d(in_channels, out_channels, kernel_size=3, padding=1), nn.BatchNorm2d(out_channels), nn.GELU(), nn.Conv2d(out_channels, out_channels, kernel_size=3, padding=1), nn.BatchNorm2d(out_channels), nn.GELU())\n",
    "        self.down = nn.MaxPool2d(2)\n",
    "    \n",
    "    def forward(self, x):\n",
    "        x = self.conv(x)\n",
    "        x = self.down(x)\n",
    "        return x\n",
    "    \n",
    "class DiffusionModel(nn.Module):\n",
    "    def __init__(self, in_channels, out_channels, num_layers) -> None:\n",
    "        super(DiffusionModel, self).__init__()\n",
    "        self.downs = nn.ModuleList([UnetDown(in_channels if i == 0 else out_channels * i, out_channels * (i + 1)) for i in range(num_layers)])\n",
    "        self.ups = nn.ModuleList([UnetUp(out_channels*(num_layers - i), out_channels*(num_layers - 1 - i) if i != num_layers - 1 else in_channels, last_layer = i == num_layers-1) for i in range(num_layers)])\n",
    "\n",
    "        \n",
    "    def forward(self, x):\n",
    "        resx = []\n",
    "        for down in self.downs:\n",
    "            resx.append(x)\n",
    "            x = down(x)\n",
    "        resx = resx[::-1]\n",
    "        for up, res in zip(self.ups, resx):\n",
    "            x = up(x, res)\n",
    "        \n",
    "        return x"
   ]
  },
  {
   "cell_type": "code",
   "execution_count": 25,
   "metadata": {},
   "outputs": [
    {
     "name": "stdout",
     "output_type": "stream",
     "text": [
      "torch.Size([1, 3, 16, 16])\n"
     ]
    },
    {
     "data": {
      "text/plain": [
       "torch.Size([1, 3, 16, 16])"
      ]
     },
     "execution_count": 25,
     "metadata": {},
     "output_type": "execute_result"
    }
   ],
   "source": [
    "images = dataset[0][0].unsqueeze(0)\n",
    "print(images.shape)\n",
    "down = UnetDown(3, 16)\n",
    "diff = DiffusionModel(3, 16, 4)\n",
    "diff(images).shape\n"
   ]
  },
  {
   "cell_type": "code",
   "execution_count": null,
   "metadata": {},
   "outputs": [],
   "source": []
  }
 ],
 "metadata": {
  "kernelspec": {
   "display_name": "image-generator",
   "language": "python",
   "name": "python3"
  },
  "language_info": {
   "codemirror_mode": {
    "name": "ipython",
    "version": 3
   },
   "file_extension": ".py",
   "mimetype": "text/x-python",
   "name": "python",
   "nbconvert_exporter": "python",
   "pygments_lexer": "ipython3",
   "version": "3.12.4"
  }
 },
 "nbformat": 4,
 "nbformat_minor": 2
}
